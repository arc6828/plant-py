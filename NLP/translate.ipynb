{
 "cells": [
  {
   "cell_type": "code",
   "execution_count": 1,
   "metadata": {},
   "outputs": [
    {
     "name": "stdout",
     "output_type": "stream",
     "text": [
      "สวัสดี สบายดีไหม?\n"
     ]
    }
   ],
   "source": [
    "from google.cloud import translate_v2 as translate\n",
    "\n",
    "\n",
    "client = translate.Client()\n",
    "text_en = \"Hello, how are you?\"\n",
    "translated_text = client.translate(text_en, target_language=\"th\")\n",
    "\n",
    "print(translated_text[\"translatedText\"])  # สวัสดี, คุณเป็นอย่างไรบ้าง?\n"
   ]
  }
 ],
 "metadata": {
  "kernelspec": {
   "display_name": "plant-env",
   "language": "python",
   "name": "python3"
  },
  "language_info": {
   "codemirror_mode": {
    "name": "ipython",
    "version": 3
   },
   "file_extension": ".py",
   "mimetype": "text/x-python",
   "name": "python",
   "nbconvert_exporter": "python",
   "pygments_lexer": "ipython3",
   "version": "3.12.3"
  }
 },
 "nbformat": 4,
 "nbformat_minor": 2
}
