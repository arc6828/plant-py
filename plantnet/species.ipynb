{
 "cells": [
  {
   "cell_type": "markdown",
   "metadata": {},
   "source": [
    "# Species - Plant Resources of South East Asia"
   ]
  },
  {
   "cell_type": "code",
   "execution_count": 12,
   "metadata": {},
   "outputs": [
    {
     "name": "stdout",
     "output_type": "stream",
     "text": [
      "Write file data/SEA-species.json\n"
     ]
    }
   ],
   "source": [
    "from bs4 import BeautifulSoup\n",
    "import requests\n",
    "import json,codecs\n",
    "import pandas as pd\n",
    "\n",
    "# Step 1: Open and read the HTML file\n",
    "html_file_path = \"data/SEA-species.html\"  # Replace with your HTML file path\n",
    "with open(html_file_path, \"r\", encoding=\"utf-8\") as file:\n",
    "    html_content = file.read()\n",
    "\n",
    "# Step 2: Parse the HTML content using BeautifulSoup\n",
    "soup = BeautifulSoup(html_content, \"html.parser\")\n",
    "\n",
    "# Find the <main> tag\n",
    "# main_tag = soup.find(\"main\")\n",
    "\n",
    "# Find the <div> tag with class \"container\"\n",
    "container_divs = soup.find_all(\"article\", class_=\"species-card\")\n",
    "\n",
    "# Find all <a> tags\n",
    "a_tags = []\n",
    "data = []\n",
    "for container_div in container_divs:\n",
    "    # a_tags += container_div.find_all(\"a\")\n",
    "    try:\n",
    "        \n",
    "        labels = [x.text.lower().strip() for x in container_div.find_all(\"div\", class_=\"pn-labeled-data-label\")]\n",
    "        contents = [x.text.lower().strip() for x in container_div.find_all(\"div\", class_=\"pn-labeled-data-content\")]\n",
    "        merged_dict = dict(zip(labels, contents))\n",
    "        original = {\n",
    "            \"common name\":\"\",\n",
    "            \"genus\":\"\",\n",
    "            \"family\":\"\",\n",
    "        }\n",
    "        merged_dict = original | merged_dict  # Merge dicts (dict2 values overwrite dict1)\n",
    "        card = {\n",
    "            \"species-name\" : container_div.find(\"h1\").text.strip(),\n",
    "            \"common-name\" : merged_dict[\"common name\"],\n",
    "            \"genus\" : merged_dict[\"genus\"],\n",
    "            \"family\" : merged_dict[\"family\"],\n",
    "            \"images\" : [ x.get(\"src\") for x in container_div.find_all(\"img\")],\n",
    "            \"num-images\" : container_div.find_all(\"span\")[0].text.replace(\",\", \"\").strip(),\n",
    "            \"num-observations\" : container_div.find_all(\"span\")[1].text.replace(\",\", \"\").split(\" \")[0].strip(),\n",
    "        }\n",
    "        data.append(card);\n",
    "    except Exception as e:\n",
    "        print(f\"An error occurred: {e}\")\n",
    "        print(container_div.find(\"h1\").text.strip())\n",
    "    \n",
    "    # break;\n",
    "\n",
    "\n",
    "\n",
    "filename = \"data/SEA-species.json\"\n",
    "with codecs.open(filename, 'w', encoding='utf-8') as f:\n",
    "    json.dump(data, f, ensure_ascii=False)\n",
    "    print(f\"Write file {filename}\")"
   ]
  },
  {
   "cell_type": "code",
   "execution_count": 7,
   "metadata": {},
   "outputs": [
    {
     "ename": "ValueError",
     "evalue": "invalid literal for int() with base 10: '1,500'",
     "output_type": "error",
     "traceback": [
      "\u001b[1;31m---------------------------------------------------------------------------\u001b[0m",
      "\u001b[1;31mValueError\u001b[0m                                Traceback (most recent call last)",
      "Cell \u001b[1;32mIn[7], line 1\u001b[0m\n\u001b[1;32m----> 1\u001b[0m \u001b[38;5;28;43mint\u001b[39;49m\u001b[43m(\u001b[49m\u001b[38;5;124;43m\"\u001b[39;49m\u001b[38;5;124;43m1,500\u001b[39;49m\u001b[38;5;124;43m\"\u001b[39;49m\u001b[43m)\u001b[49m\n",
      "\u001b[1;31mValueError\u001b[0m: invalid literal for int() with base 10: '1,500'"
     ]
    }
   ],
   "source": [
    "int(\"1,500\")"
   ]
  }
 ],
 "metadata": {
  "kernelspec": {
   "display_name": "plant-env",
   "language": "python",
   "name": "python3"
  },
  "language_info": {
   "codemirror_mode": {
    "name": "ipython",
    "version": 3
   },
   "file_extension": ".py",
   "mimetype": "text/x-python",
   "name": "python",
   "nbconvert_exporter": "python",
   "pygments_lexer": "ipython3",
   "version": "3.12.3"
  }
 },
 "nbformat": 4,
 "nbformat_minor": 2
}
